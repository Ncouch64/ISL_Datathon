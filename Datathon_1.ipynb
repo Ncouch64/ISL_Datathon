{
 "cells": [
  {
   "cell_type": "markdown",
   "metadata": {},
   "source": [
    "## Imports"
   ]
  },
  {
   "cell_type": "code",
   "execution_count": 1,
   "metadata": {},
   "outputs": [
    {
     "name": "stdout",
     "output_type": "stream",
     "text": [
      "WARNING:tensorflow:From c:\\Users\\Funniest Valentine\\ISL\\Datathon\\Datathon_12_23_2023\\datathon_1\\Lib\\site-packages\\keras\\src\\losses.py:2976: The name tf.losses.sparse_softmax_cross_entropy is deprecated. Please use tf.compat.v1.losses.sparse_softmax_cross_entropy instead.\n",
      "\n"
     ]
    }
   ],
   "source": [
    "import os\n",
    "import pandas as pd\n",
    "import numpy as np\n",
    "\n",
    "from deepface import DeepFace"
   ]
  },
  {
   "cell_type": "markdown",
   "metadata": {},
   "source": [
    "## Creating dataframe, setting input location"
   ]
  },
  {
   "cell_type": "code",
   "execution_count": 2,
   "metadata": {},
   "outputs": [],
   "source": [
    "assignment = pd.DataFrame(columns = ['filename', 'gender', 'race', 'age', 'emotion'])\n",
    "input = 'faceimages'\n",
    "images = os.listdir(input)"
   ]
  },
  {
   "cell_type": "markdown",
   "metadata": {},
   "source": [
    "## Deepface Analysis, Filler Logic, DataFrame Appending"
   ]
  },
  {
   "cell_type": "code",
   "execution_count": 3,
   "metadata": {},
   "outputs": [
    {
     "name": "stderr",
     "output_type": "stream",
     "text": [
      "Action: emotion: 100%|██████████| 4/4 [00:01<00:00,  3.54it/s]\n",
      "Action: emotion: 100%|██████████| 4/4 [00:00<00:00,  6.54it/s]\n",
      "Action: emotion: 100%|██████████| 4/4 [00:00<00:00,  6.69it/s]\n",
      "Action: emotion: 100%|██████████| 4/4 [00:00<00:00,  6.50it/s]\n",
      "Action: emotion: 100%|██████████| 4/4 [00:00<00:00,  6.79it/s]\n",
      "Action: emotion: 100%|██████████| 4/4 [00:00<00:00,  6.64it/s]\n",
      "Action: emotion: 100%|██████████| 4/4 [00:00<00:00,  6.70it/s]\n",
      "Action: emotion: 100%|██████████| 4/4 [00:00<00:00,  6.50it/s]\n",
      "Action: emotion: 100%|██████████| 4/4 [00:00<00:00,  6.66it/s]\n",
      "Action: emotion: 100%|██████████| 4/4 [00:00<00:00,  6.47it/s]\n",
      "Action: emotion: 100%|██████████| 4/4 [00:00<00:00,  5.73it/s]\n",
      "Action: emotion: 100%|██████████| 4/4 [00:00<00:00,  6.18it/s]\n",
      "Action: emotion: 100%|██████████| 4/4 [00:00<00:00,  6.24it/s]\n",
      "Action: emotion: 100%|██████████| 4/4 [00:00<00:00,  6.81it/s]\n",
      "Action: emotion: 100%|██████████| 4/4 [00:00<00:00,  6.48it/s]\n",
      "Action: emotion: 100%|██████████| 4/4 [00:00<00:00,  6.59it/s]\n",
      "Action: emotion: 100%|██████████| 4/4 [00:00<00:00,  6.36it/s]\n",
      "Action: emotion: 100%|██████████| 4/4 [00:00<00:00,  6.80it/s]\n",
      "Action: emotion: 100%|██████████| 4/4 [00:00<00:00,  6.81it/s]\n",
      "Action: emotion: 100%|██████████| 4/4 [00:00<00:00,  5.94it/s]\n",
      "Action: emotion: 100%|██████████| 4/4 [00:00<00:00,  5.13it/s]\n",
      "Action: emotion: 100%|██████████| 4/4 [00:00<00:00,  6.35it/s]\n",
      "Action: emotion: 100%|██████████| 4/4 [00:00<00:00,  6.54it/s]\n",
      "Action: emotion: 100%|██████████| 4/4 [00:00<00:00,  6.43it/s]\n",
      "Action: emotion: 100%|██████████| 4/4 [00:00<00:00,  6.42it/s]\n",
      "Action: emotion: 100%|██████████| 4/4 [00:00<00:00,  6.39it/s]\n",
      "Action: emotion: 100%|██████████| 4/4 [00:00<00:00,  6.67it/s]\n",
      "Action: emotion: 100%|██████████| 4/4 [00:00<00:00,  6.58it/s]\n",
      "Action: emotion: 100%|██████████| 4/4 [00:00<00:00,  6.20it/s]\n",
      "Action: emotion: 100%|██████████| 4/4 [00:00<00:00,  6.35it/s]\n",
      "Action: emotion: 100%|██████████| 4/4 [00:00<00:00,  6.46it/s]\n",
      "Action: emotion: 100%|██████████| 4/4 [00:00<00:00,  6.46it/s]\n",
      "Action: emotion: 100%|██████████| 4/4 [00:00<00:00,  6.40it/s]\n",
      "Action: emotion: 100%|██████████| 4/4 [00:00<00:00,  6.22it/s]\n",
      "Action: emotion: 100%|██████████| 4/4 [00:00<00:00,  6.61it/s]\n",
      "Action: emotion: 100%|██████████| 4/4 [00:00<00:00,  6.63it/s]\n",
      "Action: emotion: 100%|██████████| 4/4 [00:00<00:00,  6.38it/s]\n",
      "Action: emotion: 100%|██████████| 4/4 [00:00<00:00,  6.28it/s]\n",
      "Action: emotion: 100%|██████████| 4/4 [00:00<00:00,  6.64it/s]\n",
      "Action: emotion: 100%|██████████| 4/4 [00:00<00:00,  6.32it/s]\n",
      "Action: emotion: 100%|██████████| 4/4 [00:00<00:00,  6.29it/s]\n",
      "Action: emotion: 100%|██████████| 4/4 [00:00<00:00,  6.18it/s]\n",
      "Action: emotion: 100%|██████████| 4/4 [00:00<00:00,  6.58it/s]\n",
      "Action: emotion: 100%|██████████| 4/4 [00:00<00:00,  6.62it/s]\n",
      "Action: emotion: 100%|██████████| 4/4 [00:00<00:00,  6.41it/s]\n",
      "Action: emotion: 100%|██████████| 4/4 [00:00<00:00,  6.46it/s]\n",
      "Action: emotion: 100%|██████████| 4/4 [00:00<00:00,  6.57it/s]\n",
      "Action: emotion: 100%|██████████| 4/4 [00:00<00:00,  6.35it/s]\n",
      "Action: emotion: 100%|██████████| 4/4 [00:00<00:00,  6.33it/s]\n",
      "Action: emotion: 100%|██████████| 4/4 [00:00<00:00,  6.61it/s]\n",
      "Action: emotion: 100%|██████████| 4/4 [00:00<00:00,  6.71it/s]\n",
      "Action: emotion: 100%|██████████| 4/4 [00:00<00:00,  6.43it/s]\n",
      "Action: emotion: 100%|██████████| 4/4 [00:00<00:00,  6.43it/s]\n",
      "Action: emotion: 100%|██████████| 4/4 [00:00<00:00,  6.04it/s]\n",
      "Action: emotion: 100%|██████████| 4/4 [00:00<00:00,  6.68it/s]\n",
      "Action: emotion: 100%|██████████| 4/4 [00:00<00:00,  6.62it/s]\n",
      "Action: emotion: 100%|██████████| 4/4 [00:00<00:00,  6.34it/s]\n",
      "Action: emotion: 100%|██████████| 4/4 [00:00<00:00,  6.40it/s]\n",
      "Action: emotion: 100%|██████████| 4/4 [00:00<00:00,  6.63it/s]\n",
      "Action: emotion: 100%|██████████| 4/4 [00:00<00:00,  6.61it/s]\n",
      "Action: emotion: 100%|██████████| 4/4 [00:00<00:00,  6.49it/s]\n",
      "Action: emotion: 100%|██████████| 4/4 [00:00<00:00,  5.81it/s]\n",
      "Action: emotion: 100%|██████████| 4/4 [00:00<00:00,  5.88it/s]\n",
      "Action: emotion: 100%|██████████| 4/4 [00:00<00:00,  6.54it/s]\n",
      "Action: emotion: 100%|██████████| 4/4 [00:00<00:00,  5.75it/s]\n",
      "Action: emotion: 100%|██████████| 4/4 [00:00<00:00,  6.14it/s]\n",
      "Action: emotion: 100%|██████████| 4/4 [00:00<00:00,  6.05it/s]\n",
      "Action: emotion: 100%|██████████| 4/4 [00:00<00:00,  6.24it/s]\n",
      "Action: emotion: 100%|██████████| 4/4 [00:00<00:00,  6.10it/s]\n",
      "Action: emotion: 100%|██████████| 4/4 [00:00<00:00,  6.45it/s]\n",
      "Action: emotion: 100%|██████████| 4/4 [00:00<00:00,  5.99it/s]\n",
      "Action: emotion: 100%|██████████| 4/4 [00:00<00:00,  6.16it/s]\n",
      "Action: emotion: 100%|██████████| 4/4 [00:00<00:00,  5.89it/s]\n",
      "Action: emotion: 100%|██████████| 4/4 [00:00<00:00,  6.26it/s]\n",
      "Action: emotion: 100%|██████████| 4/4 [00:00<00:00,  5.98it/s]\n",
      "Action: emotion: 100%|██████████| 4/4 [00:00<00:00,  6.52it/s]\n",
      "Action: emotion: 100%|██████████| 4/4 [00:00<00:00,  6.50it/s]\n",
      "Action: emotion: 100%|██████████| 4/4 [00:00<00:00,  6.22it/s]\n",
      "Action: emotion: 100%|██████████| 4/4 [00:00<00:00,  6.26it/s]\n",
      "Action: emotion: 100%|██████████| 4/4 [00:00<00:00,  6.58it/s]\n",
      "Action: emotion: 100%|██████████| 4/4 [00:00<00:00,  6.35it/s]\n",
      "Action: emotion: 100%|██████████| 4/4 [00:00<00:00,  6.30it/s]\n",
      "Action: emotion: 100%|██████████| 4/4 [00:00<00:00,  6.09it/s]\n",
      "Action: emotion: 100%|██████████| 4/4 [00:00<00:00,  6.07it/s]\n",
      "Action: emotion: 100%|██████████| 4/4 [00:00<00:00,  6.58it/s]\n",
      "Action: emotion: 100%|██████████| 4/4 [00:00<00:00,  6.38it/s]\n",
      "Action: emotion: 100%|██████████| 4/4 [00:00<00:00,  6.47it/s]\n",
      "Action: emotion: 100%|██████████| 4/4 [00:00<00:00,  6.48it/s]\n",
      "Action: emotion: 100%|██████████| 4/4 [00:00<00:00,  6.68it/s]\n",
      "Action: emotion: 100%|██████████| 4/4 [00:00<00:00,  6.41it/s]\n",
      "Action: emotion: 100%|██████████| 4/4 [00:00<00:00,  6.27it/s]\n",
      "Action: emotion: 100%|██████████| 4/4 [00:00<00:00,  6.40it/s]\n",
      "Action: emotion: 100%|██████████| 4/4 [00:00<00:00,  6.68it/s]\n",
      "Action: emotion: 100%|██████████| 4/4 [00:00<00:00,  6.41it/s]\n",
      "Action: emotion: 100%|██████████| 4/4 [00:00<00:00,  5.57it/s]\n",
      "Action: emotion: 100%|██████████| 4/4 [00:00<00:00,  6.18it/s]\n",
      "Action: emotion: 100%|██████████| 4/4 [00:00<00:00,  6.15it/s]\n",
      "Action: emotion: 100%|██████████| 4/4 [00:00<00:00,  6.51it/s]\n",
      "Action: emotion: 100%|██████████| 4/4 [00:00<00:00,  6.43it/s]\n",
      "Action: emotion: 100%|██████████| 4/4 [00:00<00:00,  6.37it/s]\n",
      "Action: emotion: 100%|██████████| 4/4 [00:00<00:00,  6.36it/s]\n",
      "Action: emotion: 100%|██████████| 4/4 [00:00<00:00,  6.56it/s]\n",
      "Action: emotion: 100%|██████████| 4/4 [00:00<00:00,  6.34it/s]\n",
      "Action: emotion: 100%|██████████| 4/4 [00:00<00:00,  6.35it/s]\n",
      "Action: emotion: 100%|██████████| 4/4 [00:00<00:00,  6.31it/s]\n",
      "Action: emotion: 100%|██████████| 4/4 [00:00<00:00,  6.09it/s]\n",
      "Action: emotion: 100%|██████████| 4/4 [00:00<00:00,  6.31it/s]\n",
      "Action: emotion: 100%|██████████| 4/4 [00:00<00:00,  6.12it/s]\n",
      "Action: emotion: 100%|██████████| 4/4 [00:00<00:00,  6.49it/s]\n",
      "Action: emotion: 100%|██████████| 4/4 [00:00<00:00,  6.29it/s]\n",
      "Action: emotion: 100%|██████████| 4/4 [00:00<00:00,  6.30it/s]\n",
      "Action: emotion: 100%|██████████| 4/4 [00:00<00:00,  6.27it/s]\n",
      "Action: emotion: 100%|██████████| 4/4 [00:00<00:00,  6.04it/s]\n"
     ]
    }
   ],
   "source": [
    "for img in images:\n",
    "    predictions = DeepFace.analyze(img_path = os.path.join(input, img),\n",
    "                            actions = ['gender', 'race', 'age', 'emotion'], \n",
    "                            enforce_detection=False)\n",
    "    \n",
    "    # Gender filler\n",
    "    gender = predictions[0]['gender']\n",
    "    gender_accepted = .80\n",
    "    dominant_gender, gender_confidence = max(gender.items(), key = lambda item: item[1])\n",
    "    if gender_confidence < gender_accepted:\n",
    "        gender = 'Unknown'\n",
    "    else:\n",
    "        gender = dominant_gender\n",
    "\n",
    "    # Race filler\n",
    "    min_acc_confindent = 0.5\n",
    "    race = predictions[0]['race']\n",
    "    dominant_race, race_confidence = max(race.items(), key = lambda item: item[1])\n",
    "    if race_confidence < min_acc_confindent:\n",
    "        race = 'Unknown'\n",
    "    else:\n",
    "        race = dominant_race\n",
    "    \n",
    "    # Age filler\n",
    "    age = predictions[0]['age']\n",
    "    if np.isnan(age) or age == 0:\n",
    "        age = -1\n",
    "\n",
    "    # Not part of the assignment but I wanted to see how well this works\n",
    "    emotion = predictions[0]['emotion']\n",
    "    dominant_emotion, emotion_confidence = max(emotion.items(), key = lambda item: item[1])\n",
    "    if emotion_confidence < min_acc_confindent:\n",
    "        emotion = 'Unknown'\n",
    "    else:\n",
    "        emotion = dominant_emotion\n",
    "    \n",
    "    # Creating dictionary for adding a new row to the existing dataframe\n",
    "    result_row = {'filename': img, 'gender': gender, 'race': race, 'age': age, 'emotion': emotion}\n",
    "\n",
    "    # concatenating the new row to the dataframe \n",
    "    assignment = pd.concat([assignment, pd.DataFrame([result_row])], ignore_index=True)"
   ]
  },
  {
   "cell_type": "markdown",
   "metadata": {},
   "source": [
    "## CSV Creation"
   ]
  },
  {
   "cell_type": "code",
   "execution_count": 4,
   "metadata": {},
   "outputs": [],
   "source": [
    "assignment.to_csv('assignment.csv', index=False)"
   ]
  }
 ],
 "metadata": {
  "kernelspec": {
   "display_name": "datathon_1",
   "language": "python",
   "name": "python3"
  },
  "language_info": {
   "codemirror_mode": {
    "name": "ipython",
    "version": 3
   },
   "file_extension": ".py",
   "mimetype": "text/x-python",
   "name": "python",
   "nbconvert_exporter": "python",
   "pygments_lexer": "ipython3",
   "version": "3.11.0"
  }
 },
 "nbformat": 4,
 "nbformat_minor": 2
}
